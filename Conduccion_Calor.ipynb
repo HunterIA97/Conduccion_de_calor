{
 "cells": [
  {
   "cell_type": "code",
   "execution_count": 1,
   "metadata": {},
   "outputs": [],
   "source": [
    "#importar bibliotecas útiles en el programa\n",
    "import numpy as np\n",
    "import matplotlib.pyplot as plt"
   ]
  },
  {
   "cell_type": "code",
   "execution_count": 2,
   "metadata": {},
   "outputs": [],
   "source": [
    "#1) LECTURA DE DATOS\n",
    "def LecDatos():\n",
    "    \"\"\"\n",
    "    Función que ayuda en la lectura de datos iniciales del problema\n",
    "    La función regresa los valores para su uso posterior\n",
    "    \"\"\"\n",
    "    print('DATOS DE ENTRADA')\n",
    "    L=float(input('Longitud de la barra: '))\n",
    "    TA=float(input('Temperatura al inicio de la barra: '))\n",
    "    TB=float(input('Temperatura al final de la barra: '))\n",
    "    k=float(input('Conductividad térmica: '))\n",
    "    N=int(input('Número de nodos (incluir los nodos extremos): '))\n",
    "    nQ=int(input('Número de fuentes de calor: '))\n",
    "    if nQ==0:\n",
    "        Q=Crea_Matriz(N-2,1)\n",
    "    else:\n",
    "        Q=Crea_Matriz(N-2,1)\n",
    "        print('Escribir valores (si es un sumidero agregar un signo menos)')\n",
    "        for i in range(nQ):\n",
    "            x=int(input('Nodo donde se encuentra: '))\n",
    "            Q[x]=float(input('Valor de la fuente: '))\n",
    "            \n",
    "    return(L,TA, TB, k, N,Q)"
   ]
  },
  {
   "cell_type": "code",
   "execution_count": 3,
   "metadata": {},
   "outputs": [],
   "source": [
    "#2) CREACIÓN DE MATRIZ\n",
    "def Crea_Matriz(n,m):\n",
    "    \"\"\"\n",
    "    Función que crea una matriz con las dimensiones dadas\n",
    "    \"\"\"\n",
    "    return np.zeros((n,m))"
   ]
  },
  {
   "cell_type": "code",
   "execution_count": 22,
   "metadata": {},
   "outputs": [],
   "source": [
    "# 3) LLENADO DE LAS MATRICES\n",
    "def Matriz_ll(L,TA,TB,k,N):\n",
    "    \"\"\"\n",
    "    Función que crea las matrices con la información útil\n",
    "    Utiliza la función Crea_Matriz para crear cada matriz \n",
    "    Además calcula algunos valores extra a usar en otro momento\n",
    "    \"\"\"\n",
    "    \n",
    "    #Tamaño de las divisiones\n",
    "    h=L/(N-1)\n",
    "    \n",
    "    #Cálculo de r\n",
    "    r=k/(h**2)\n",
    "    \n",
    "    #Matriz de coeficientes\n",
    "    A=Crea_Matriz(N-2,N-2)\n",
    "    for i in range(N-2):\n",
    "        for j in range(N-2):\n",
    "            if (i==j):\n",
    "                A[i][j]=-2\n",
    "            if(np.fabs(i-j)==1):\n",
    "                A[i][j]=1\n",
    "    \n",
    "    #Matriz de temperaturas frontera\n",
    "    Tf=Crea_Matriz(N-2,1)\n",
    "    Tf[0]=-TA\n",
    "    Tf[N-3]=-TB\n",
    "    \n",
    "    #Matriz de Temperaturas en todo el dominio\n",
    "    Temp=Crea_Matriz(N,1)\n",
    "    Temp[0]=TA\n",
    "    Temp[N-1]=TB\n",
    "    \n",
    "    #Matriz de distancias\n",
    "    Dist=Crea_Matriz(N,1)\n",
    "    Dist[0]=0\n",
    "    for i in range (1,N):\n",
    "        Dist[i]=Dist[i-1]+h\n",
    "    \n",
    "    return (h,r,A,Tf,Temp,Dist)"
   ]
  },
  {
   "cell_type": "code",
   "execution_count": 23,
   "metadata": {},
   "outputs": [],
   "source": [
    "#4) IMPRIMIR MATRICES\n",
    "def Imprime_Matriz(a):\n",
    "    \"\"\"\n",
    "    Función de apoyo para imprimir en pantalla la matriz dada\n",
    "    \"\"\"\n",
    "    [n,m]=a.shape\n",
    "    print('\\n')\n",
    "    for i in range (n):\n",
    "        for j in range (m):\n",
    "            print(a[i][j],end=' ')\n",
    "        print('\\n')"
   ]
  },
  {
   "cell_type": "code",
   "execution_count": 24,
   "metadata": {},
   "outputs": [],
   "source": [
    "#5) FUNCIÓN ANALITICA\n",
    "def F_Real(TA,TB,L):\n",
    "    \"\"\"\n",
    "    Función que calcula la solución analítica\n",
    "    \"\"\"\n",
    "\n",
    "    y=lambda x: TA+x*(TB-TA)/L\n",
    "    x=np.linspace(0,L,30)\n",
    "    \n",
    "    return (x,y(x))"
   ]
  },
  {
   "cell_type": "code",
   "execution_count": 25,
   "metadata": {},
   "outputs": [],
   "source": [
    "#6) SOLUCIÓN APROXIMADA\n",
    "def Sol_Aprox(A,Tf,Temp,Q,r,N):\n",
    "    \"\"\"\n",
    "    Función que resuelve el sistema de matrices [A][x]=[b] y debuelve la solución\n",
    "    \"\"\"\n",
    "    \n",
    "    #Definicion de la matriz b\n",
    "    b=Tf+(1/r)*Q\n",
    "    \n",
    "    #Resolviendo el sistema\n",
    "    Temp[1:N-1] = np.linalg.solve(A,b)\n",
    "    \n",
    "    return Temp"
   ]
  },
  {
   "cell_type": "code",
   "execution_count": 26,
   "metadata": {},
   "outputs": [],
   "source": [
    "#7) GRÁFICAS\n",
    "def Graf(x,y,nombre,Nx,Ny,linea):\n",
    "    \"\"\"\n",
    "    Función para realización de gráficas de resultados\n",
    "    \"\"\"\n",
    "    plt.plot(x,y,linea)\n",
    "    plt.title(nombre)\n",
    "    plt.xlabel(Nx)\n",
    "    plt.ylabel(Ny)\n",
    "    #plt.legend()\n",
    "    plt.show()"
   ]
  },
  {
   "cell_type": "code",
   "execution_count": 27,
   "metadata": {},
   "outputs": [
    {
     "name": "stdout",
     "output_type": "stream",
     "text": [
      "DATOS DE ENTRADA\n",
      "Longitud de la barra: 0.5\n",
      "Temperatura al inicio de la barra: 100\n",
      "Temperatura al final de la barra: 500\n",
      "Conductividad térmica: 10\n",
      "Número de nodos (incluir los nodos extremos): 6\n",
      "Número de fuentes de calor: 0\n"
     ]
    }
   ],
   "source": [
    "#Programa principal\n",
    "[L,TA,TB,k,N,Q]=LecDatos()\n",
    "[h,r,A,Tf,Temp,Dist]=Matriz_ll(L,TA,TB,k,N)"
   ]
  },
  {
   "cell_type": "code",
   "execution_count": 28,
   "metadata": {},
   "outputs": [
    {
     "name": "stdout",
     "output_type": "stream",
     "text": [
      "\n",
      "\tMatriz de Coeficientes\n",
      "\n",
      "\n",
      "-2.0 1.0 0.0 0.0 \n",
      "\n",
      "1.0 -2.0 1.0 0.0 \n",
      "\n",
      "0.0 1.0 -2.0 1.0 \n",
      "\n",
      "0.0 0.0 1.0 -2.0 \n",
      "\n"
     ]
    }
   ],
   "source": [
    "print('\\n\\tMatriz de Coeficientes')\n",
    "Imprime_Matriz(A)"
   ]
  },
  {
   "cell_type": "code",
   "execution_count": 29,
   "metadata": {},
   "outputs": [
    {
     "name": "stdout",
     "output_type": "stream",
     "text": [
      "\n",
      "\tMatriz de Temperaturas a lo largo de la barra\n",
      "\n",
      "\n",
      "100.0 \n",
      "\n",
      "0.0 \n",
      "\n",
      "0.0 \n",
      "\n",
      "0.0 \n",
      "\n",
      "0.0 \n",
      "\n",
      "500.0 \n",
      "\n"
     ]
    }
   ],
   "source": [
    "print('\\n\\tMatriz de Temperaturas a lo largo de la barra')\n",
    "Imprime_Matriz(Temp)"
   ]
  },
  {
   "cell_type": "code",
   "execution_count": 30,
   "metadata": {},
   "outputs": [
    {
     "name": "stdout",
     "output_type": "stream",
     "text": [
      "\n",
      "\tMatriz de Temperaturas en fronteras\n",
      "\n",
      "\n",
      "-100.0 \n",
      "\n",
      "0.0 \n",
      "\n",
      "0.0 \n",
      "\n",
      "-500.0 \n",
      "\n"
     ]
    }
   ],
   "source": [
    "print('\\n\\tMatriz de Temperaturas en fronteras')\n",
    "Imprime_Matriz(Tf)"
   ]
  },
  {
   "cell_type": "code",
   "execution_count": 31,
   "metadata": {},
   "outputs": [
    {
     "name": "stdout",
     "output_type": "stream",
     "text": [
      "\n",
      "\tMatriz de Fuentes\n",
      "\n",
      "\n",
      "0.0 \n",
      "\n",
      "0.0 \n",
      "\n",
      "0.0 \n",
      "\n",
      "0.0 \n",
      "\n"
     ]
    }
   ],
   "source": [
    "print('\\n\\tMatriz de Fuentes')\n",
    "Imprime_Matriz(Q)"
   ]
  },
  {
   "cell_type": "code",
   "execution_count": 32,
   "metadata": {},
   "outputs": [
    {
     "data": {
      "image/png": "[encoded data removed]",
      "text/plain": [
       "<Figure size 432x288 with 1 Axes>"
      ]
     },
     "metadata": {
      "needs_background": "light"
     },
     "output_type": "display_data"
    },
    {
     "data": {
      "image/png": "[encoded data removed]",
      "text/plain": [
       "<Figure size 432x288 with 1 Axes>"
      ]
     },
     "metadata": {
      "needs_background": "light"
     },
     "output_type": "display_data"
    }
   ],
   "source": [
    "[x,y]=F_Real(TA,TB,L)\n",
    "Temp=Sol_Aprox(A,Tf,Temp,Q,r,N)\n",
    "\n",
    "Graf(x,y,'Solución analítica','Distancia','Temperatura','C1--')\n",
    "Graf(Dist,Temp,'Solución aproximada','Distancia','Temperatura','-bo')"
   ]
  },
  {
   "cell_type": "code",
   "execution_count": null,
   "metadata": {},
   "outputs": [],
   "source": []
  }
 ],
 "metadata": {
  "kernelspec": {
   "display_name": "Python 3",
   "language": "python",
   "name": "python3"
  },
  "language_info": {
   "codemirror_mode": {
    "name": "ipython",
    "version": 3
   },
   "file_extension": ".py",
   "mimetype": "text/x-python",
   "name": "python",
   "nbconvert_exporter": "python",
   "pygments_lexer": "ipython3",
   "version": "3.8.5"
  }
 },
 "nbformat": 4,
 "nbformat_minor": 4
}
